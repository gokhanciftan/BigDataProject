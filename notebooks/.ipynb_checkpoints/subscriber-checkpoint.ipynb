{
 "cells": [
  {
   "cell_type": "code",
   "execution_count": 25,
   "id": "ef28fed7-b837-405a-9d7d-d9505a9175ae",
   "metadata": {},
   "outputs": [
    {
     "name": "stdout",
     "output_type": "stream",
     "text": [
      "Requirement already satisfied: pykafka in /opt/conda/lib/python3.11/site-packages (2.8.0)\n",
      "Requirement already satisfied: six>=1.5 in /opt/conda/lib/python3.11/site-packages (from pykafka) (1.16.0)\n",
      "Requirement already satisfied: kazoo==2.5.0 in /opt/conda/lib/python3.11/site-packages (from pykafka) (2.5.0)\n",
      "Requirement already satisfied: tabulate in /opt/conda/lib/python3.11/site-packages (from pykafka) (0.9.0)\n"
     ]
    }
   ],
   "source": [
    "!pip install pykafka"
   ]
  },
  {
   "cell_type": "code",
   "execution_count": 26,
   "id": "36b39229-c0c0-4f7e-ac8c-5a7a982306f7",
   "metadata": {},
   "outputs": [],
   "source": [
    "from pykafka import KafkaClient\n",
    "\n",
    "client = KafkaClient(hosts=\"broker:29092\", broker_version=\"1.0.0\")"
   ]
  },
  {
   "cell_type": "code",
   "execution_count": 27,
   "id": "0d26fcd1-8632-4ce8-8eb6-063b54d4a1b0",
   "metadata": {},
   "outputs": [],
   "source": [
    "import pyspark\n",
    "from pyspark.sql import SparkSession\n",
    "spark = SparkSession.builder \\\n",
    "    .config(\"spark.streaming.stopGracefullyOnShutdown\", True) \\\n",
    "    .config('spark.jars.packages', 'org.apache.spark:spark-sql-kafka-0-10_2.12:3.3.0') \\\n",
    "    .config(\"spark.sql.shuffle.partitions\", 4) \\\n",
    "    .master(\"local\").getOrCreate()"
   ]
  },
  {
   "cell_type": "code",
   "execution_count": 28,
   "id": "ed1eca2c-f777-4903-b1a2-80536e75cf97",
   "metadata": {},
   "outputs": [],
   "source": [
    "# Kafka'dan veri okuma\n",
    "kafka_df = spark \\\n",
    "    .readStream \\\n",
    "    .format(\"kafka\") \\\n",
    "    .option(\"kafka.bootstrap.servers\",\"broker:29092\") \\\n",
    "    .option(\"subscribe\",\"PurchasedItems\") \\\n",
    "    .option(\"startingOffsets\",\"earliest\") \\\n",
    "    .load()\n",
    "    "
   ]
  },
  {
   "cell_type": "code",
   "execution_count": 29,
   "id": "a91563ff-7b2c-49ec-bdf7-61503a528889",
   "metadata": {},
   "outputs": [],
   "source": [
    " # HDFS'e veri yazma\n",
    "query = kafka_df \\\n",
    "    .writeStream \\\n",
    "    .format(\"parquet\") \\\n",
    "    .outputMode(\"append\") \\\n",
    "    .option(\"path\", \"hdfs://namenode:9000/PurchasedItems\") \\\n",
    "    .option(\"checkpointLocation\", \"checkpoint-2\") \\\n",
    "    .start()"
   ]
  },
  {
   "cell_type": "code",
   "execution_count": null,
   "id": "3116d512-2a5d-416a-970c-1d366e588564",
   "metadata": {},
   "outputs": [],
   "source": [
    "# Sürekli çalışmayı başlat\n",
    "query.awaitTermination()"
   ]
  },
  {
   "cell_type": "code",
   "execution_count": 7,
   "id": "ff28c4a4-71ba-44d5-a072-a86ae6a2e143",
   "metadata": {},
   "outputs": [],
   "source": [
    "spark.stop()"
   ]
  }
 ],
 "metadata": {
  "kernelspec": {
   "display_name": "Python 3 (ipykernel)",
   "language": "python",
   "name": "python3"
  },
  "language_info": {
   "codemirror_mode": {
    "name": "ipython",
    "version": 3
   },
   "file_extension": ".py",
   "mimetype": "text/x-python",
   "name": "python",
   "nbconvert_exporter": "python",
   "pygments_lexer": "ipython3",
   "version": "3.11.6"
  }
 },
 "nbformat": 4,
 "nbformat_minor": 5
}
