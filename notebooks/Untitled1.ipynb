{
 "cells": [
  {
   "cell_type": "code",
   "execution_count": 1,
   "id": "6866e09e-0d81-4827-8c11-366babff260c",
   "metadata": {},
   "outputs": [],
   "source": [
    "import pyspark\n",
    "from pyspark.sql import SparkSession\n",
    "spark = SparkSession.builder.master(\"local\").getOrCreate()"
   ]
  },
  {
   "cell_type": "code",
   "execution_count": 17,
   "id": "0e605a7c-b3ac-44af-bc93-f6d607a50caa",
   "metadata": {},
   "outputs": [],
   "source": [
    "from pyspark.sql.functions import *"
   ]
  },
  {
   "cell_type": "code",
   "execution_count": 3,
   "id": "6b9546e8-a3ac-4e24-8991-674e2b520661",
   "metadata": {},
   "outputs": [
    {
     "name": "stdout",
     "output_type": "stream",
     "text": [
      "+----+----+----+----+\n",
      "|col1|col2|col3|col4|\n",
      "+----+----+----+----+\n",
      "|  50|  11|  29|  75|\n",
      "|  67|   9|  80|  92|\n",
      "|  15|  23|  83|  54|\n",
      "|  74|  25|  74|  50|\n",
      "|   9|  17|  75|  40|\n",
      "|  84|  91|  52|  50|\n",
      "|  90|   5|  38|  98|\n",
      "|  89|  29|  57|  98|\n",
      "|   3|  68|  77|  48|\n",
      "|  84|  54|  14|  59|\n",
      "|  90|  26|  85|  55|\n",
      "|  42|   4|  87|  10|\n",
      "|  46|  75|  50|  79|\n",
      "|  31|  78|  47|  27|\n",
      "|  44|  72|  92|  81|\n",
      "|  52|  82|  64|  87|\n",
      "|  69|  60|  71|   7|\n",
      "|  75|  34|  70|  61|\n",
      "|  32|  94|  49|  21|\n",
      "|  29|  65|  96|  82|\n",
      "+----+----+----+----+\n",
      "only showing top 20 rows\n",
      "\n"
     ]
    }
   ],
   "source": [
    "# NumPy ve Pandas kütüphanelerini içe aktarma\n",
    "import numpy as np\n",
    "import pandas as pd\n",
    "\n",
    "# Rastgele sayılar içeren bir NumPy dizisi oluşturma\n",
    "data = np.random.randint(1, 100, size=(100, 4))\n",
    "\n",
    "# Pandas DataFrame'i oluşturmak için NumPy dizisini kullanma\n",
    "df_pandas = pd.DataFrame(data, columns=[\"col1\", \"col2\", \"col3\", \"col4\"])\n",
    "\n",
    "# Pandas DataFrame'i Spark DataFrame'e dönüştürme\n",
    "df_spark = spark.createDataFrame(df_pandas)\n",
    "\n",
    "\n",
    "# Veri kümesini görüntülemek için print işlemini kullanma\n",
    "df_spark.show()\n"
   ]
  },
  {
   "cell_type": "code",
   "execution_count": 4,
   "id": "f3f3032d-2548-4447-9bb0-d10d3762d88a",
   "metadata": {},
   "outputs": [],
   "source": [
    "df_spark.write.json(\"hdfs://namenode:9000/training_samples/first_dataframe/1.json\")"
   ]
  },
  {
   "cell_type": "code",
   "execution_count": 5,
   "id": "057e6c42-5650-4ca7-ac81-b58ed44764ab",
   "metadata": {},
   "outputs": [],
   "source": [
    "df_spark.write.parquet(\"hdfs://namenode:9000/training_samples/first_dataframe_parquet/\")"
   ]
  },
  {
   "cell_type": "code",
   "execution_count": 18,
   "id": "05e5503e-fd42-40d2-b521-ee04fb6ed06d",
   "metadata": {},
   "outputs": [
    {
     "name": "stdout",
     "output_type": "stream",
     "text": [
      "+---------------+\n",
      "|    MAIN_SOURCE|\n",
      "+---------------+\n",
      "|           SEAT|\n",
      "|VOLKSWAGEN A.G.|\n",
      "|   SCANIA CV AB|\n",
      "+---------------+\n",
      "\n"
     ]
    }
   ],
   "source": [
    "df_haber = spark.read.format(\"csv\").option(\"header\",\"true\").load(\"exceptions.csv\")\n",
    "df_haber.select(col(\"MAIN_SOURCE\")).distinct().show()"
   ]
  },
  {
   "cell_type": "code",
   "execution_count": 20,
   "id": "810ca607-72ec-4c88-bb52-e4ada5164240",
   "metadata": {},
   "outputs": [],
   "source": [
    "df_haber.write.parquet(\"hdfs://namenode:9000/training_samples/second_dataframe_parquet/\")"
   ]
  },
  {
   "cell_type": "code",
   "execution_count": 21,
   "id": "f203a12f-7c1b-40f5-8168-65b1ba680fcf",
   "metadata": {},
   "outputs": [],
   "source": [
    "df_haber.write \\\n",
    ".option(\"compression\",\"gzip\") \\\n",
    ".partitionBy([\"MAIN_SOURCE\",\"ORDER_TYPE\"]) \\\n",
    ".parquet(\"hdfs://namenode:9000/training_samples/second_dataframe_parquet_with_partition/\")"
   ]
  },
  {
   "cell_type": "code",
   "execution_count": 27,
   "id": "a8fb253d-6e9b-460b-8729-cbce353e9dbf",
   "metadata": {},
   "outputs": [
    {
     "name": "stdout",
     "output_type": "stream",
     "text": [
      "root\n",
      " |-- _c0: string (nullable = true)\n",
      " |-- ORDER_NO: string (nullable = true)\n",
      " |-- PRODUCT_CODE: string (nullable = true)\n",
      " |-- ORDER_TYPE: string (nullable = true)\n",
      " |-- TRANSFER_TYPE: string (nullable = true)\n",
      " |-- TRANSACTION_ID: string (nullable = true)\n",
      " |-- TRANSACTION_TYPE: string (nullable = true)\n",
      " |-- TRANSACTION_DATE: string (nullable = true)\n",
      " |-- PENDING_TRANSACTION_TYPE: string (nullable = true)\n",
      " |-- average_days: string (nullable = true)\n",
      " |-- NEXT_TRXN_DATE_FORECAST: string (nullable = true)\n",
      " |-- MAIN_SOURCE: string (nullable = true)\n",
      "\n",
      "+---+-------------+--------------+----------+-------------+--------------------+--------------------+----------------+------------------------+------------+-----------------------+-----------+\n",
      "|_c0|     ORDER_NO|  PRODUCT_CODE|ORDER_TYPE|TRANSFER_TYPE|      TRANSACTION_ID|    TRANSACTION_TYPE|TRANSACTION_DATE|PENDING_TRANSACTION_TYPE|average_days|NEXT_TRXN_DATE_FORECAST|MAIN_SOURCE|\n",
      "+---+-------------+--------------+----------+-------------+--------------------+--------------------+----------------+------------------------+------------+-----------------------+-----------+\n",
      "|  9|2024-9-501   |     5F0035397|      Stok|       Kamyon|        1.0000000000|             Sipariş|      2024-02-26|        Faturalandırıldı|         9.0|             2024-03-19|       SEAT|\n",
      "| 10|2024-7-302   |    5F0941701D|      Acil|       Kamyon|        1.0000000000|             Sipariş|      2024-02-12|        Faturalandırıldı|         9.0|             2024-03-05|       SEAT|\n",
      "| 11|2024-11-14   |5FG061500  041|  Çok Acil| Express Uçak|        1.0000000000|             Sipariş|      2024-03-13|        Faturalandırıldı|         2.6|             2024-03-19|       SEAT|\n",
      "| 23|2024-11-8    |5FA807962  9DG|  Çok Acil| Express Uçak|        1.0000000000|             Sipariş|      2024-03-12|        Faturalandırıldı|         3.0|             2024-03-19|       SEAT|\n",
      "| 69|2024-5-501   |     1P0823301|      Stok|       Kamyon|        1.0000000000|             Sipariş|      2024-01-29|        Faturalandırıldı|        10.0|             2024-02-23|       SEAT|\n",
      "| 70|2024-9-501   |    575919486H|      Stok|       Kamyon|        1.0000000000|             Sipariş|      2024-02-26|        Faturalandırıldı|         9.0|             2024-03-19|       SEAT|\n",
      "| 71|2024-9-303   |     576941773|      Acil|       Kamyon|        3.0000000000|          Gönderildi|      2024-03-13|              Gönderildi|         0.0|             2024-03-13|       SEAT|\n",
      "| 72|2024-11-304  |     576941773|      Acil|       Kamyon|        3.0000000000|          Gönderildi|      2024-03-13|              Gönderildi|         0.0|             2024-03-13|       SEAT|\n",
      "| 73|2024-11-304  |     576941773|      Acil|       Kamyon|        3.0000000000|          Gönderildi|      2024-03-13|              Gönderildi|         0.0|             2024-03-13|       SEAT|\n",
      "| 74|2024-11-304  |     576941773|      Acil|       Kamyon|        3.0000000000|          Gönderildi|      2024-03-13|              Gönderildi|         0.0|             2024-03-13|       SEAT|\n",
      "| 75|2024-2-501   |6F0845011BCNVB|      Stok|       Kamyon|        1.0000000000|             Sipariş|      2024-01-08|        Faturalandırıldı|        18.5|             2024-02-23|       SEAT|\n",
      "|143|2024-7-3     |575881805GAXFS|  Çok Acil| Express Uçak|533809316.0000000000|DS Depo Kabul - Y...|      2024-02-20|    DS Depo Kabul - Y...|         0.0|             2024-02-20|       SEAT|\n",
      "|144|2024-6-7     |575881805GAXFS|  Çok Acil| Express Uçak|533810226.0000000000|DS Depo Kabul - Y...|      2024-02-20|    DS Depo Kabul - Y...|         0.0|             2024-02-20|       SEAT|\n",
      "|159|2024-2-501   |6F9853667D 9B9|      Stok|       Kamyon|        1.0000000000|             Sipariş|      2024-01-08|        Faturalandırıldı|        17.0|             2024-02-19|       SEAT|\n",
      "|169|2024-7-501   |     5F1955409|      Stok|       Kamyon|        1.0000000000|             Sipariş|      2024-02-12|        Faturalandırıldı|        14.0|             2024-03-18|       SEAT|\n",
      "|170|2024-6-502   |    5FF945307H|      Stok|       Kamyon|        1.0000000000|             Sipariş|      2024-02-05|        Faturalandırıldı|        15.5|             2024-03-14|       SEAT|\n",
      "|194|2024-8-504   |    6L0949117A|      Stok|       Kamyon|        1.0000000000|             Sipariş|      2024-02-19|        Faturalandırıldı|         9.0|             2024-03-12|       SEAT|\n",
      "|209|2024-11-16   |6H1084300E HAU|  Çok Acil| Express Uçak|        1.0000000000|             Sipariş|      2024-03-13|        Faturalandırıldı|         2.0|             2024-03-18|       SEAT|\n",
      "|222|2024-2-501   |5FF807442C 041|      Stok|       Kamyon|        1.0000000000|             Sipariş|      2024-01-08|        Faturalandırıldı|        23.0|             2024-03-05|       SEAT|\n",
      "|223|2024-11-8    |6F0881806D RXH|  Çok Acil| Express Uçak|        1.0000000000|             Sipariş|      2024-03-12|        Faturalandırıldı|         2.0|             2024-03-17|       SEAT|\n",
      "+---+-------------+--------------+----------+-------------+--------------------+--------------------+----------------+------------------------+------------+-----------------------+-----------+\n",
      "only showing top 20 rows\n",
      "\n"
     ]
    }
   ],
   "source": [
    "df_exceptions = spark.read.parquet(\"hdfs://namenode:9000/training_samples/second_dataframe_parquet_with_partition\")\n",
    "df_exceptions.printSchema()\n",
    "\n",
    "df_exceptions.where(col(\"MAIN_SOURCE\")==\"SEAT\").show()"
   ]
  },
  {
   "cell_type": "code",
   "execution_count": 28,
   "id": "c68265b6-fd6b-455f-900b-7ca840b45929",
   "metadata": {},
   "outputs": [],
   "source": [
    "df_haber.write \\\n",
    ".option(\"compression\",\"gzip\") \\\n",
    ".partitionBy([\"MAIN_SOURCE\",\"ORDER_TYPE\"]) \\\n",
    ".parquet(\"hdfs://namenode:9000/training_samples/second_dataframe_parquet_with_partition2/\")"
   ]
  },
  {
   "cell_type": "code",
   "execution_count": 29,
   "id": "cada4c85-73e4-43b0-90f5-5740c8d32217",
   "metadata": {},
   "outputs": [],
   "source": [
    "df_haber.write.csv(\"\\deneme\\\\abc.csv\")"
   ]
  },
  {
   "cell_type": "code",
   "execution_count": 32,
   "id": "98d749a4-867b-4b5e-bbf1-abb5f99be084",
   "metadata": {},
   "outputs": [],
   "source": [
    "df_total = df_exceptions.groupBy(\"ORDER_TYPE\").agg(count(col(\"ORDER_NO\")).alias(\"count\"))\n",
    "\n",
    "df_total.write.json(\"hdfs://namenode:9000/training_samples/third_dataframe_json/file.json\")"
   ]
  }
 ],
 "metadata": {
  "kernelspec": {
   "display_name": "Python 3 (ipykernel)",
   "language": "python",
   "name": "python3"
  },
  "language_info": {
   "codemirror_mode": {
    "name": "ipython",
    "version": 3
   },
   "file_extension": ".py",
   "mimetype": "text/x-python",
   "name": "python",
   "nbconvert_exporter": "python",
   "pygments_lexer": "ipython3",
   "version": "3.11.6"
  }
 },
 "nbformat": 4,
 "nbformat_minor": 5
}
