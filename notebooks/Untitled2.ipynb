{
 "cells": [
  {
   "cell_type": "code",
   "execution_count": 1,
   "id": "0505cf84-50d9-4855-8b8e-a35644df2499",
   "metadata": {},
   "outputs": [],
   "source": [
    "from pykafka import KafkaClient\n",
    "\n",
    "client = KafkaClient(hosts=\"broker:29092\", broker_version=\"1.0.0\")"
   ]
  },
  {
   "cell_type": "code",
   "execution_count": 6,
   "id": "1321d73b-3c34-4406-b65a-b1036e4cf4b7",
   "metadata": {},
   "outputs": [],
   "source": [
    "import json\n",
    "\n",
    "topic = client.topics['topic_schema']\n",
    "\n",
    "with topic.get_sync_producer() as producer:\n",
    "    #for i in range(4):\n",
    "\n",
    "    value = {\n",
    "        \"name\":\"Gökhan\",\n",
    "        \"age\":50\n",
    "    }        \n",
    "\n",
    "    # Mesajı JSON formatına dönüştürün\n",
    "    message_json = json.dumps(value)\n",
    "    \n",
    "    # Mesajı bytes'a dönüştürün\n",
    "    message_bytes = message_json.encode('utf-8')\n",
    "    #value = 'test message ' + str(i ** 2)\n",
    "    producer.produce(message_bytes)"
   ]
  }
 ],
 "metadata": {
  "kernelspec": {
   "display_name": "Python 3 (ipykernel)",
   "language": "python",
   "name": "python3"
  },
  "language_info": {
   "codemirror_mode": {
    "name": "ipython",
    "version": 3
   },
   "file_extension": ".py",
   "mimetype": "text/x-python",
   "name": "python",
   "nbconvert_exporter": "python",
   "pygments_lexer": "ipython3",
   "version": "3.11.6"
  }
 },
 "nbformat": 4,
 "nbformat_minor": 5
}
